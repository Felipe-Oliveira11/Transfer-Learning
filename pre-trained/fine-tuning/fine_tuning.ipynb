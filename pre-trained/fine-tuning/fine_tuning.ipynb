{
  "nbformat": 4,
  "nbformat_minor": 0,
  "metadata": {
    "colab": {
      "name": "fine-tuning.ipynb",
      "provenance": [],
      "collapsed_sections": []
    },
    "kernelspec": {
      "name": "python3",
      "display_name": "Python 3"
    }
  },
  "cells": [
    {
      "cell_type": "code",
      "metadata": {
        "id": "atLkjHepZEOM"
      },
      "source": [
        "import os \n",
        "import numpy as np \n",
        "import pandas as pd \n",
        "import matplotlib.pyplot as plt\n",
        "\n",
        "\n",
        "%matplotlib inline \n",
        "import warnings\n",
        "warnings.filterwarnings(\"ignore\")\n",
        "\n",
        "\n",
        "import tensorflow as tf \n",
        "from tensorflow import keras \n",
        "from tensorflow.keras.models import Sequential, Model \n",
        "from tensorflow.keras.layers import Input, Dense, Flatten\n",
        "from tensorflow.keras.layers import GlobalMaxPool2D, Dropout, SpatialDropout2D\n",
        "from tensorflow.keras.layers import Conv2D, MaxPool2D\n",
        "from tensorflow.keras.optimizers import Adam\n",
        "from tensorflow.keras.applications import ResNet50\n",
        "from tensorflow.keras.applications import VGG16\n",
        "from tensorflow.keras.applications.vgg16 import preprocess_input, decode_predictions\n",
        "from tensorflow.keras.applications.resnet50 import preprocess_input, decode_predictions\n",
        "from tensorflow.keras.preprocessing.image import load_img, array_to_img, img_to_array\n",
        "from tensorflow.keras.losses import SparseCategoricalCrossentropy\n",
        "from sklearn.model_selection import train_test_split"
      ],
      "execution_count": 1,
      "outputs": []
    },
    {
      "cell_type": "code",
      "metadata": {
        "id": "xZOP1Z3TcSis"
      },
      "source": [
        "# warnings TensorFlow \n",
        "tf.compat.v1.logging.set_verbosity(tf.compat.v1.logging.ERROR)"
      ],
      "execution_count": 2,
      "outputs": []
    },
    {
      "cell_type": "markdown",
      "metadata": {
        "id": "875qBomqehWq"
      },
      "source": [
        "<hr>\n",
        "<br>\n",
        "\n",
        "##### Using Pre-trained Network "
      ]
    },
    {
      "cell_type": "code",
      "metadata": {
        "id": "W6eqqU7taVse"
      },
      "source": [
        "# define model \n",
        "shape = Input(shape=(150, 150, 3))\n",
        "model = ResNet50(include_top=True, weights=\"imagenet\", input_tensor=shape)"
      ],
      "execution_count": 3,
      "outputs": []
    },
    {
      "cell_type": "code",
      "metadata": {
        "id": "anZ1rvtkajoy"
      },
      "source": [
        "# pre-process image \n",
        "\n",
        "path = \"mountain.jpg\"\n",
        "\n",
        "img = load_img(path=path, target_size=(150, 150, 3))\n",
        "img = img_to_array(img)\n",
        "img = np.expand_dims(img, axis=0)\n",
        "x = preprocess_input(img)"
      ],
      "execution_count": 4,
      "outputs": []
    },
    {
      "cell_type": "code",
      "metadata": {
        "id": "7n5ztxroa3_X",
        "outputId": "8a0fe9d3-eb52-44c8-c6f4-dcaa1d3c1a9e",
        "colab": {
          "base_uri": "https://localhost:8080/",
          "height": 54
        }
      },
      "source": [
        "pred = model.predict(x)\n",
        "print(\"Predicted: \", decode_predictions(pred, top=3)[0])"
      ],
      "execution_count": 5,
      "outputs": [
        {
          "output_type": "stream",
          "text": [
            "Predicted:  [('n09193705', 'alp', 0.8854446), ('n03792972', 'mountain_tent', 0.061749563), ('n09332890', 'lakeside', 0.009889168)]\n"
          ],
          "name": "stdout"
        }
      ]
    },
    {
      "cell_type": "markdown",
      "metadata": {
        "id": "xwxqlqHjdWvM"
      },
      "source": [
        "<hr>\n",
        "<br>\n",
        "\n",
        "##### Extract Features with VGG-16 \n"
      ]
    },
    {
      "cell_type": "code",
      "metadata": {
        "id": "p4OxXVuzdaHt"
      },
      "source": [
        "# VGG-16 \n",
        "base_model = VGG16(include_top=False, weights=\"imagenet\")"
      ],
      "execution_count": 6,
      "outputs": []
    },
    {
      "cell_type": "code",
      "metadata": {
        "id": "wqWBsXw0d4oa"
      },
      "source": [
        "# Feature extractor VGG-16 \n",
        "model = Model(inputs=base_model.inputs, outputs=base_model.get_layer('block4_pool').output)"
      ],
      "execution_count": 7,
      "outputs": []
    },
    {
      "cell_type": "code",
      "metadata": {
        "id": "YBF_8WqieV2T"
      },
      "source": [
        "path = \"mountain.jpg\"\n",
        "\n",
        "img = load_img(path=path, target_size=(150, 150, 3))\n",
        "img = img_to_array(img)\n",
        "img = np.expand_dims(img, axis=0)\n",
        "x = preprocess_input(img)"
      ],
      "execution_count": 8,
      "outputs": []
    },
    {
      "cell_type": "code",
      "metadata": {
        "id": "oRBe64qxedGL"
      },
      "source": [
        "# features \n",
        "features = model.predict(x)"
      ],
      "execution_count": 9,
      "outputs": []
    },
    {
      "cell_type": "markdown",
      "metadata": {
        "id": "2JSc5qlqlou8"
      },
      "source": [
        "<hr>\n",
        "<br>\n",
        "\n",
        "##### Fine-Tuning\n"
      ]
    },
    {
      "cell_type": "code",
      "metadata": {
        "id": "S2h_d9cSq__E"
      },
      "source": [
        "images = [\"mountain.jpg\", \"valey.jpg\"]\n",
        "labels = [0, 1]"
      ],
      "execution_count": 10,
      "outputs": []
    },
    {
      "cell_type": "code",
      "metadata": {
        "id": "JFEjzcierIUd"
      },
      "source": [
        "new_images = []\n",
        "\n",
        "for img in images: \n",
        "  img = load_img(img, color_mode=\"rgb\")\n",
        "  img = img_to_array(img)\n",
        "# img = np.expand_dims(img, axis=0)\n",
        "  img /= 255.0\n",
        "  new_images.append(img)"
      ],
      "execution_count": 11,
      "outputs": []
    },
    {
      "cell_type": "code",
      "metadata": {
        "id": "J_I6BXhppgo8",
        "outputId": "198d6e0e-5bf3-41b0-b85e-97655558fe06",
        "colab": {
          "base_uri": "https://localhost:8080/",
          "height": 111
        }
      },
      "source": [
        "data = pd.DataFrame({\"image\":new_images, \"label\":labels})\n",
        "\n",
        "X = np.array(new_images)\n",
        "y = np.array(data[\"label\"])\n",
        "\n",
        "data.head()"
      ],
      "execution_count": 12,
      "outputs": [
        {
          "output_type": "execute_result",
          "data": {
            "text/html": [
              "<div>\n",
              "<style scoped>\n",
              "    .dataframe tbody tr th:only-of-type {\n",
              "        vertical-align: middle;\n",
              "    }\n",
              "\n",
              "    .dataframe tbody tr th {\n",
              "        vertical-align: top;\n",
              "    }\n",
              "\n",
              "    .dataframe thead th {\n",
              "        text-align: right;\n",
              "    }\n",
              "</style>\n",
              "<table border=\"1\" class=\"dataframe\">\n",
              "  <thead>\n",
              "    <tr style=\"text-align: right;\">\n",
              "      <th></th>\n",
              "      <th>image</th>\n",
              "      <th>label</th>\n",
              "    </tr>\n",
              "  </thead>\n",
              "  <tbody>\n",
              "    <tr>\n",
              "      <th>0</th>\n",
              "      <td>[[[0.8156863, 0.827451, 0.84705883], [0.815686...</td>\n",
              "      <td>0</td>\n",
              "    </tr>\n",
              "    <tr>\n",
              "      <th>1</th>\n",
              "      <td>[[[0.5921569, 0.8039216, 0.9882353], [0.596078...</td>\n",
              "      <td>1</td>\n",
              "    </tr>\n",
              "  </tbody>\n",
              "</table>\n",
              "</div>"
            ],
            "text/plain": [
              "                                               image  label\n",
              "0  [[[0.8156863, 0.827451, 0.84705883], [0.815686...      0\n",
              "1  [[[0.5921569, 0.8039216, 0.9882353], [0.596078...      1"
            ]
          },
          "metadata": {
            "tags": []
          },
          "execution_count": 12
        }
      ]
    },
    {
      "cell_type": "code",
      "metadata": {
        "id": "aNyYxO-Sux3R",
        "outputId": "7263a851-8591-4480-c8f0-d67b2aaf79f1",
        "colab": {
          "base_uri": "https://localhost:8080/",
          "height": 34
        }
      },
      "source": [
        "X.shape"
      ],
      "execution_count": 13,
      "outputs": [
        {
          "output_type": "execute_result",
          "data": {
            "text/plain": [
              "(2, 150, 150, 3)"
            ]
          },
          "metadata": {
            "tags": []
          },
          "execution_count": 13
        }
      ]
    },
    {
      "cell_type": "code",
      "metadata": {
        "id": "P1V275yiuJHd"
      },
      "source": [
        "X_train, _, y_train, _ = train_test_split(X,y, random_state=42)"
      ],
      "execution_count": 14,
      "outputs": []
    },
    {
      "cell_type": "code",
      "metadata": {
        "id": "6n-xBXh_uQtV",
        "outputId": "b24dabbf-9bea-4454-b2cf-5484e3330979",
        "colab": {
          "base_uri": "https://localhost:8080/",
          "height": 34
        }
      },
      "source": [
        "X_train.shape"
      ],
      "execution_count": 15,
      "outputs": [
        {
          "output_type": "execute_result",
          "data": {
            "text/plain": [
              "(1, 150, 150, 3)"
            ]
          },
          "metadata": {
            "tags": []
          },
          "execution_count": 15
        }
      ]
    },
    {
      "cell_type": "code",
      "metadata": {
        "id": "KmQTsLFxf7yT"
      },
      "source": [
        "# freeze all layers \n",
        "vgg = VGG16(include_top=False, weights=\"imagenet\", input_shape=(150,150,3))\n",
        "\n",
        "for layer in vgg.layers:\n",
        "  layer.trainable = False"
      ],
      "execution_count": 16,
      "outputs": []
    },
    {
      "cell_type": "code",
      "metadata": {
        "id": "bJM0rLVDgBGW",
        "outputId": "134790cd-fc4e-4cf2-d09f-9d48586709d1",
        "colab": {
          "base_uri": "https://localhost:8080/",
          "height": 901
        }
      },
      "source": [
        "# Build CNN fine-tuning \n",
        "\n",
        "vgg16 = vgg.output\n",
        "x = Flatten()(vgg16)\n",
        "x = Dense(64, activation=\"relu\")(x)\n",
        "output_layer = Dense(10, activation=\"softmax\")(x)\n",
        "\n",
        "model = Model(inputs=vgg.input, outputs=output_layer)\n",
        "model.summary()"
      ],
      "execution_count": 17,
      "outputs": [
        {
          "output_type": "stream",
          "text": [
            "Model: \"functional_3\"\n",
            "_________________________________________________________________\n",
            "Layer (type)                 Output Shape              Param #   \n",
            "=================================================================\n",
            "input_3 (InputLayer)         [(None, 150, 150, 3)]     0         \n",
            "_________________________________________________________________\n",
            "block1_conv1 (Conv2D)        (None, 150, 150, 64)      1792      \n",
            "_________________________________________________________________\n",
            "block1_conv2 (Conv2D)        (None, 150, 150, 64)      36928     \n",
            "_________________________________________________________________\n",
            "block1_pool (MaxPooling2D)   (None, 75, 75, 64)        0         \n",
            "_________________________________________________________________\n",
            "block2_conv1 (Conv2D)        (None, 75, 75, 128)       73856     \n",
            "_________________________________________________________________\n",
            "block2_conv2 (Conv2D)        (None, 75, 75, 128)       147584    \n",
            "_________________________________________________________________\n",
            "block2_pool (MaxPooling2D)   (None, 37, 37, 128)       0         \n",
            "_________________________________________________________________\n",
            "block3_conv1 (Conv2D)        (None, 37, 37, 256)       295168    \n",
            "_________________________________________________________________\n",
            "block3_conv2 (Conv2D)        (None, 37, 37, 256)       590080    \n",
            "_________________________________________________________________\n",
            "block3_conv3 (Conv2D)        (None, 37, 37, 256)       590080    \n",
            "_________________________________________________________________\n",
            "block3_pool (MaxPooling2D)   (None, 18, 18, 256)       0         \n",
            "_________________________________________________________________\n",
            "block4_conv1 (Conv2D)        (None, 18, 18, 512)       1180160   \n",
            "_________________________________________________________________\n",
            "block4_conv2 (Conv2D)        (None, 18, 18, 512)       2359808   \n",
            "_________________________________________________________________\n",
            "block4_conv3 (Conv2D)        (None, 18, 18, 512)       2359808   \n",
            "_________________________________________________________________\n",
            "block4_pool (MaxPooling2D)   (None, 9, 9, 512)         0         \n",
            "_________________________________________________________________\n",
            "block5_conv1 (Conv2D)        (None, 9, 9, 512)         2359808   \n",
            "_________________________________________________________________\n",
            "block5_conv2 (Conv2D)        (None, 9, 9, 512)         2359808   \n",
            "_________________________________________________________________\n",
            "block5_conv3 (Conv2D)        (None, 9, 9, 512)         2359808   \n",
            "_________________________________________________________________\n",
            "block5_pool (MaxPooling2D)   (None, 4, 4, 512)         0         \n",
            "_________________________________________________________________\n",
            "flatten (Flatten)            (None, 8192)              0         \n",
            "_________________________________________________________________\n",
            "dense (Dense)                (None, 64)                524352    \n",
            "_________________________________________________________________\n",
            "dense_1 (Dense)              (None, 10)                650       \n",
            "=================================================================\n",
            "Total params: 15,239,690\n",
            "Trainable params: 525,002\n",
            "Non-trainable params: 14,714,688\n",
            "_________________________________________________________________\n"
          ],
          "name": "stdout"
        }
      ]
    },
    {
      "cell_type": "code",
      "metadata": {
        "id": "NYwI-xTwolxM"
      },
      "source": [
        "model.compile(optimizer=Adam(0.001), \n",
        "              loss=SparseCategoricalCrossentropy(),\n",
        "              metrics=[\"accuracy\"])"
      ],
      "execution_count": 18,
      "outputs": []
    },
    {
      "cell_type": "code",
      "metadata": {
        "id": "ZMKIo4EbsBtW",
        "outputId": "3ce68687-9c08-4b7a-8d06-bc4e70bbba14",
        "colab": {
          "base_uri": "https://localhost:8080/",
          "height": 374
        }
      },
      "source": [
        "model.fit(X_train, y_train, epochs=10, batch_size=1)"
      ],
      "execution_count": 19,
      "outputs": [
        {
          "output_type": "stream",
          "text": [
            "Epoch 1/10\n",
            "1/1 [==============================] - 0s 2ms/step - loss: 1.6428 - accuracy: 1.0000\n",
            "Epoch 2/10\n",
            "1/1 [==============================] - 0s 1ms/step - loss: 0.1726 - accuracy: 1.0000\n",
            "Epoch 3/10\n",
            "1/1 [==============================] - 0s 2ms/step - loss: 0.0250 - accuracy: 1.0000\n",
            "Epoch 4/10\n",
            "1/1 [==============================] - 0s 3ms/step - loss: 0.0052 - accuracy: 1.0000\n",
            "Epoch 5/10\n",
            "1/1 [==============================] - 0s 1ms/step - loss: 0.0014 - accuracy: 1.0000\n",
            "Epoch 6/10\n",
            "1/1 [==============================] - 0s 5ms/step - loss: 4.5468e-04 - accuracy: 1.0000\n",
            "Epoch 7/10\n",
            "1/1 [==============================] - 0s 1ms/step - loss: 1.7105e-04 - accuracy: 1.0000\n",
            "Epoch 8/10\n",
            "1/1 [==============================] - 0s 1ms/step - loss: 7.2238e-05 - accuracy: 1.0000\n",
            "Epoch 9/10\n",
            "1/1 [==============================] - 0s 1ms/step - loss: 3.3736e-05 - accuracy: 1.0000\n",
            "Epoch 10/10\n",
            "1/1 [==============================] - 0s 1ms/step - loss: 1.7047e-05 - accuracy: 1.0000\n"
          ],
          "name": "stdout"
        },
        {
          "output_type": "execute_result",
          "data": {
            "text/plain": [
              "<tensorflow.python.keras.callbacks.History at 0x7fbba637d828>"
            ]
          },
          "metadata": {
            "tags": []
          },
          "execution_count": 19
        }
      ]
    }
  ]
}
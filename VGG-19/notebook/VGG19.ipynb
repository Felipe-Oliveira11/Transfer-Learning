{
  "nbformat": 4,
  "nbformat_minor": 0,
  "metadata": {
    "colab": {
      "name": "VGG19.ipynb",
      "provenance": [],
      "collapsed_sections": [],
      "toc_visible": true
    },
    "kernelspec": {
      "name": "python3",
      "display_name": "Python 3"
    },
    "accelerator": "GPU"
  },
  "cells": [
    {
      "cell_type": "markdown",
      "metadata": {
        "id": "6FLQLU1aGtbo"
      },
      "source": [
        "### VGG-19\n",
        "\n",
        "\n",
        "This code is a reference for future implementations of VGG-19 pre-trained, I´m not find performance model, But focus is of the architecture for implement a tranfer-learning solution. \n",
        "\n",
        "\n",
        "<br>\n",
        "<hr>"
      ]
    },
    {
      "cell_type": "code",
      "metadata": {
        "id": "10myZBGUKveL"
      },
      "source": [
        "import os \n",
        "import numpy as np \n",
        "import pandas as pd \n",
        "import matplotlib.pyplot as plt \n",
        "import matplotlib.image as mpimg\n",
        "import seaborn as sns\n",
        "import glob\n",
        "import time \n",
        "from PIL import Image\n",
        "from scipy import ndimage, misc\n",
        "import cv2 \n",
        "\n",
        "%matplotlib inline \n",
        "import warnings\n",
        "warnings.filterwarnings(\"ignore\")\n",
        "\n",
        "\n",
        "\n",
        "import tensorflow as tf\n",
        "from tensorflow import keras \n",
        "import tensorflow_hub as hub\n",
        "import tensorflow_datasets as tfds\n",
        "from keras.datasets import cifar10\n",
        "from tensorflow.keras.layers import Input\n",
        "from tensorflow.keras.preprocessing.image import img_to_array, load_img, array_to_img\n",
        "from tensorflow.keras.utils import to_categorical\n",
        "from tensorflow.keras.utils import get_file\n",
        "from tensorflow.keras.optimizers import Adam\n",
        "from tensorflow.keras.models import Sequential\n",
        "from tensorflow.keras.layers import Dense, Flatten, GlobalMaxPool2D, Dropout \n",
        "from tensorflow.keras.models import Model\n",
        "from tensorflow.keras.losses import CategoricalCrossentropy, SparseCategoricalCrossentropy\n",
        "from tensorflow.keras.applications import VGG19\n",
        "from tensorflow.keras.applications.vgg19 import preprocess_input, decode_predictions\n",
        "from sklearn.metrics import classification_report"
      ],
      "execution_count": 1,
      "outputs": []
    },
    {
      "cell_type": "code",
      "metadata": {
        "id": "1fqQbTlCkjoA"
      },
      "source": [
        "# seed \n",
        "np.random.seed(42)\n",
        "tf.random.set_seed(42)"
      ],
      "execution_count": 2,
      "outputs": []
    },
    {
      "cell_type": "code",
      "metadata": {
        "id": "E4gfc5FKklo7",
        "outputId": "631d1614-952d-404e-c635-02b0d70bc5f4",
        "colab": {
          "base_uri": "https://localhost:8080/",
          "height": 34
        }
      },
      "source": [
        "print(\"Num GPUs Available: \", len(tf.config.experimental.list_physical_devices('GPU')))"
      ],
      "execution_count": 3,
      "outputs": [
        {
          "output_type": "stream",
          "text": [
            "Num GPUs Available:  1\n"
          ],
          "name": "stdout"
        }
      ]
    },
    {
      "cell_type": "code",
      "metadata": {
        "id": "3pkEkL2jb5wl"
      },
      "source": [
        "(X_train, y_train), (X_test, y_test) = cifar10.load_data()"
      ],
      "execution_count": 4,
      "outputs": []
    },
    {
      "cell_type": "code",
      "metadata": {
        "id": "DgyqWCP0KGVx",
        "outputId": "ef3c897d-1cc9-40ce-b1bf-ca87dd83b7c0",
        "colab": {
          "base_uri": "https://localhost:8080/",
          "height": 283
        }
      },
      "source": [
        "teste = array_to_img(X_train[4])\n",
        "plt.imshow(teste)"
      ],
      "execution_count": 5,
      "outputs": [
        {
          "output_type": "execute_result",
          "data": {
            "text/plain": [
              "<matplotlib.image.AxesImage at 0x7f4a900654e0>"
            ]
          },
          "metadata": {
            "tags": []
          },
          "execution_count": 5
        },
        {
          "output_type": "display_data",
          "data": {
            "image/png": "[encoded data removed]",
            "text/plain": [
              "<Figure size 432x288 with 1 Axes>"
            ]
          },
          "metadata": {
            "tags": [],
            "needs_background": "light"
          }
        }
      ]
    },
    {
      "cell_type": "code",
      "metadata": {
        "id": "Iy7C0AQSTwB6",
        "outputId": "4b9dea28-903d-4ced-8405-87c601ade4c0",
        "colab": {
          "base_uri": "https://localhost:8080/",
          "height": 34
        }
      },
      "source": [
        "image =  array_to_img(X_train[0])\n",
        "image.size"
      ],
      "execution_count": 6,
      "outputs": [
        {
          "output_type": "execute_result",
          "data": {
            "text/plain": [
              "(32, 32)"
            ]
          },
          "metadata": {
            "tags": []
          },
          "execution_count": 6
        }
      ]
    },
    {
      "cell_type": "code",
      "metadata": {
        "id": "RGcQgn6OHyD5"
      },
      "source": [
        "class_names = [\"airplane\", \"automobile\", \"bird\", \"cat\", \"deer\", \"dog\", \"frog\", \"horse\", \"ship\", \"truck\"]"
      ],
      "execution_count": 7,
      "outputs": []
    },
    {
      "cell_type": "code",
      "metadata": {
        "id": "axy6OGCCEpPi",
        "outputId": "e4400064-fa23-43a3-a289-cee5b38b0f86",
        "colab": {
          "base_uri": "https://localhost:8080/",
          "height": 361
        }
      },
      "source": [
        "plt.figure(figsize=(12,6))\n",
        "\n",
        "for image in range(0,4):\n",
        "  plt.subplot(2,2, image + 1)\n",
        "  plt.xticks([])\n",
        "  plt.yticks([])\n",
        "  plt.grid(False)\n",
        "  plt.imshow(X_train[image])\n",
        "plt.show()"
      ],
      "execution_count": 8,
      "outputs": [
        {
          "output_type": "display_data",
          "data": {
            "image/png": "[encoded data removed]",
            "text/plain": [
              "<Figure size 864x432 with 4 Axes>"
            ]
          },
          "metadata": {
            "tags": []
          }
        }
      ]
    },
    {
      "cell_type": "code",
      "metadata": {
        "id": "lV1vIdHUGK0B"
      },
      "source": [
        "# scaling pixels \n",
        "X_train = X_train.astype(np.float32) / 255.0\n",
        "X_test = X_test.astype(np.float32) / 255.0"
      ],
      "execution_count": 9,
      "outputs": []
    },
    {
      "cell_type": "code",
      "metadata": {
        "id": "4fAQVeqoxxHW",
        "outputId": "9e2166df-6672-4505-fdea-48bc69551ba2",
        "colab": {
          "base_uri": "https://localhost:8080/",
          "height": 34
        }
      },
      "source": [
        "X_train.shape"
      ],
      "execution_count": 10,
      "outputs": [
        {
          "output_type": "execute_result",
          "data": {
            "text/plain": [
              "(50000, 32, 32, 3)"
            ]
          },
          "metadata": {
            "tags": []
          },
          "execution_count": 10
        }
      ]
    },
    {
      "cell_type": "code",
      "metadata": {
        "id": "LHzdCQuNiz_F"
      },
      "source": [
        "# vector for binary matrix \n",
        "y_train = to_categorical(y_train)\n",
        "y_test = to_categorical(y_test)"
      ],
      "execution_count": 11,
      "outputs": []
    },
    {
      "cell_type": "markdown",
      "metadata": {
        "id": "i7HfFPH9d4qR"
      },
      "source": [
        "<hr>\n",
        "<br>\n",
        "\n",
        "\n",
        "\n",
        "#### VGG-19\n",
        "\n",
        "\n",
        "\n",
        "\n",
        "<br>"
      ]
    },
    {
      "cell_type": "code",
      "metadata": {
        "id": "dB_ik88JeMR4"
      },
      "source": [
        "# VGG-19 architecture\n",
        "vgg = VGG19(include_top=False, weights='imagenet', input_shape=(32, 32, 3), pooling='max', classes=10)"
      ],
      "execution_count": 12,
      "outputs": []
    },
    {
      "cell_type": "code",
      "metadata": {
        "id": "sKr4Kr3apIu2"
      },
      "source": [
        "# setting trainable layers in VGG-19 \n",
        "\n",
        "for layer in vgg.layers[0:15]:\n",
        "  layer.trainable = True\n",
        "\n",
        "for layer in vgg.layers[15:]:\n",
        "  layer.trainable = False "
      ],
      "execution_count": 13,
      "outputs": []
    },
    {
      "cell_type": "code",
      "metadata": {
        "id": "72OvgNzJinVr",
        "outputId": "b82bcb32-ae3d-4f6c-c8ba-29d34e5d7a84",
        "colab": {
          "base_uri": "https://localhost:8080/",
          "height": 952
        }
      },
      "source": [
        "# Summary VGG-19\n",
        "print(vgg.summary())"
      ],
      "execution_count": 14,
      "outputs": [
        {
          "output_type": "stream",
          "text": [
            "Model: \"vgg19\"\n",
            "_________________________________________________________________\n",
            "Layer (type)                 Output Shape              Param #   \n",
            "=================================================================\n",
            "input_1 (InputLayer)         [(None, 32, 32, 3)]       0         \n",
            "_________________________________________________________________\n",
            "block1_conv1 (Conv2D)        (None, 32, 32, 64)        1792      \n",
            "_________________________________________________________________\n",
            "block1_conv2 (Conv2D)        (None, 32, 32, 64)        36928     \n",
            "_________________________________________________________________\n",
            "block1_pool (MaxPooling2D)   (None, 16, 16, 64)        0         \n",
            "_________________________________________________________________\n",
            "block2_conv1 (Conv2D)        (None, 16, 16, 128)       73856     \n",
            "_________________________________________________________________\n",
            "block2_conv2 (Conv2D)        (None, 16, 16, 128)       147584    \n",
            "_________________________________________________________________\n",
            "block2_pool (MaxPooling2D)   (None, 8, 8, 128)         0         \n",
            "_________________________________________________________________\n",
            "block3_conv1 (Conv2D)        (None, 8, 8, 256)         295168    \n",
            "_________________________________________________________________\n",
            "block3_conv2 (Conv2D)        (None, 8, 8, 256)         590080    \n",
            "_________________________________________________________________\n",
            "block3_conv3 (Conv2D)        (None, 8, 8, 256)         590080    \n",
            "_________________________________________________________________\n",
            "block3_conv4 (Conv2D)        (None, 8, 8, 256)         590080    \n",
            "_________________________________________________________________\n",
            "block3_pool (MaxPooling2D)   (None, 4, 4, 256)         0         \n",
            "_________________________________________________________________\n",
            "block4_conv1 (Conv2D)        (None, 4, 4, 512)         1180160   \n",
            "_________________________________________________________________\n",
            "block4_conv2 (Conv2D)        (None, 4, 4, 512)         2359808   \n",
            "_________________________________________________________________\n",
            "block4_conv3 (Conv2D)        (None, 4, 4, 512)         2359808   \n",
            "_________________________________________________________________\n",
            "block4_conv4 (Conv2D)        (None, 4, 4, 512)         2359808   \n",
            "_________________________________________________________________\n",
            "block4_pool (MaxPooling2D)   (None, 2, 2, 512)         0         \n",
            "_________________________________________________________________\n",
            "block5_conv1 (Conv2D)        (None, 2, 2, 512)         2359808   \n",
            "_________________________________________________________________\n",
            "block5_conv2 (Conv2D)        (None, 2, 2, 512)         2359808   \n",
            "_________________________________________________________________\n",
            "block5_conv3 (Conv2D)        (None, 2, 2, 512)         2359808   \n",
            "_________________________________________________________________\n",
            "block5_conv4 (Conv2D)        (None, 2, 2, 512)         2359808   \n",
            "_________________________________________________________________\n",
            "block5_pool (MaxPooling2D)   (None, 1, 1, 512)         0         \n",
            "_________________________________________________________________\n",
            "global_max_pooling2d (Global (None, 512)               0         \n",
            "=================================================================\n",
            "Total params: 20,024,384\n",
            "Trainable params: 8,225,344\n",
            "Non-trainable params: 11,799,040\n",
            "_________________________________________________________________\n",
            "None\n"
          ],
          "name": "stdout"
        }
      ]
    },
    {
      "cell_type": "code",
      "metadata": {
        "id": "cdKxEsLCe2dh"
      },
      "source": [
        "# Build CNN \n",
        "\n",
        "model = Sequential()\n",
        "model.add(vgg)\n",
        "model.add(Dense(250, activation=\"relu\"))\n",
        "model.add(Dropout(0.30))\n",
        "model.add(Dense(10, activation=\"softmax\"))"
      ],
      "execution_count": 15,
      "outputs": []
    },
    {
      "cell_type": "code",
      "metadata": {
        "id": "ixJN6kkHe2fx",
        "outputId": "093a15f5-ae68-4f9d-9051-f248a648830f",
        "colab": {
          "base_uri": "https://localhost:8080/",
          "height": 289
        }
      },
      "source": [
        "model.summary()"
      ],
      "execution_count": 16,
      "outputs": [
        {
          "output_type": "stream",
          "text": [
            "Model: \"sequential\"\n",
            "_________________________________________________________________\n",
            "Layer (type)                 Output Shape              Param #   \n",
            "=================================================================\n",
            "vgg19 (Functional)           (None, 512)               20024384  \n",
            "_________________________________________________________________\n",
            "dense (Dense)                (None, 250)               128250    \n",
            "_________________________________________________________________\n",
            "dropout (Dropout)            (None, 250)               0         \n",
            "_________________________________________________________________\n",
            "dense_1 (Dense)              (None, 10)                2510      \n",
            "=================================================================\n",
            "Total params: 20,155,144\n",
            "Trainable params: 8,356,104\n",
            "Non-trainable params: 11,799,040\n",
            "_________________________________________________________________\n"
          ],
          "name": "stdout"
        }
      ]
    },
    {
      "cell_type": "code",
      "metadata": {
        "id": "ot-cY9eOf1Aa"
      },
      "source": [
        "model.compile(optimizer=Adam(0.001),\n",
        "              loss=CategoricalCrossentropy(),\n",
        "              metrics=[\"accuracy\"])"
      ],
      "execution_count": 17,
      "outputs": []
    },
    {
      "cell_type": "code",
      "metadata": {
        "id": "tzS65TqOfd1h",
        "outputId": "354c4f4f-0484-4286-ad56-d72271c0434f",
        "colab": {
          "base_uri": "https://localhost:8080/",
          "height": 411
        }
      },
      "source": [
        "model.fit(X_train, y_train,\n",
        "          epochs=10,\n",
        "          batch_size=128,\n",
        "          validation_data=(X_test, y_test))"
      ],
      "execution_count": 18,
      "outputs": [
        {
          "output_type": "stream",
          "text": [
            "Epoch 1/10\n",
            "  2/391 [..............................] - ETA: 11s - loss: 2.5514 - accuracy: 0.1016WARNING:tensorflow:Callbacks method `on_train_batch_end` is slow compared to the batch time (batch time: 0.0211s vs `on_train_batch_end` time: 0.0330s). Check your callbacks.\n",
            "391/391 [==============================] - 24s 62ms/step - loss: 1.8580 - accuracy: 0.2726 - val_loss: 1.5107 - val_accuracy: 0.3953\n",
            "Epoch 2/10\n",
            "391/391 [==============================] - 24s 61ms/step - loss: 1.2941 - accuracy: 0.5189 - val_loss: 1.0267 - val_accuracy: 0.6333\n",
            "Epoch 3/10\n",
            "391/391 [==============================] - 23s 60ms/step - loss: 0.9487 - accuracy: 0.6640 - val_loss: 0.8793 - val_accuracy: 0.6984\n",
            "Epoch 4/10\n",
            "391/391 [==============================] - 23s 59ms/step - loss: 0.7476 - accuracy: 0.7431 - val_loss: 0.8493 - val_accuracy: 0.7265\n",
            "Epoch 5/10\n",
            "391/391 [==============================] - 23s 60ms/step - loss: 0.6072 - accuracy: 0.7973 - val_loss: 0.7170 - val_accuracy: 0.7612\n",
            "Epoch 6/10\n",
            "391/391 [==============================] - 23s 60ms/step - loss: 0.5144 - accuracy: 0.8289 - val_loss: 0.7005 - val_accuracy: 0.7698\n",
            "Epoch 7/10\n",
            "391/391 [==============================] - 23s 60ms/step - loss: 0.4314 - accuracy: 0.8567 - val_loss: 0.6390 - val_accuracy: 0.7973\n",
            "Epoch 8/10\n",
            "391/391 [==============================] - 23s 60ms/step - loss: 0.3648 - accuracy: 0.8796 - val_loss: 0.6389 - val_accuracy: 0.8058\n",
            "Epoch 9/10\n",
            "391/391 [==============================] - 23s 60ms/step - loss: 0.3023 - accuracy: 0.9001 - val_loss: 0.7111 - val_accuracy: 0.7978\n",
            "Epoch 10/10\n",
            "391/391 [==============================] - 23s 60ms/step - loss: 0.2557 - accuracy: 0.9162 - val_loss: 0.7111 - val_accuracy: 0.8070\n"
          ],
          "name": "stdout"
        },
        {
          "output_type": "execute_result",
          "data": {
            "text/plain": [
              "<tensorflow.python.keras.callbacks.History at 0x7f4a3c1546a0>"
            ]
          },
          "metadata": {
            "tags": []
          },
          "execution_count": 18
        }
      ]
    },
    {
      "cell_type": "markdown",
      "metadata": {
        "id": "mDoGsvF_l004"
      },
      "source": [
        "<br>\n",
        "<hr>"
      ]
    }
  ]
}